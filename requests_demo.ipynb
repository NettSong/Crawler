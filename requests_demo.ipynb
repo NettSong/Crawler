{
 "cells": [
  {
   "cell_type": "code",
   "execution_count": 2,
   "metadata": {},
   "outputs": [],
   "source": [
    "import requests"
   ]
  },
  {
   "cell_type": "markdown",
   "metadata": {},
   "source": [
    "# Requests `get` example"
   ]
  },
  {
   "cell_type": "code",
   "execution_count": 3,
   "metadata": {},
   "outputs": [
    {
     "name": "stdout",
     "output_type": "stream",
     "text": [
      "<class 'requests.models.Response'>\n",
      "https://www.jiuzhang.com/\n",
      "200\n",
      "<!DOCTYPE html>\n",
      "<html>\n",
      "\n",
      "<head>\n",
      "  <meta charset=\"utf-8\" />\n",
      "  <meta http-equiv=\"content-type\" content=\"text/html;charset=UTF-8\" />\n",
      "  <meta name=\"viewport\" content=\"width=device-width, initial-scale=1.0, maximum-scale=1.0, user-scalable=no\" />\n",
      "  <meta name=\"apple-mobile-web-app-capable\" content=\"yes\">\n",
      "  <meta name=\"apple-touch-fullscreen\" content=\"yes\">\n",
      "  <meta name=\"apple-mobile-web-app-status-bar-style\" content=\"default\">\n",
      "  <meta name=\"description\" content=\"九章算法致力于让顶尖的工程师在线传授最优质的计算机课程，帮助更多中国人找到好工作\" />\n",
      "  <meta name=\"keywords\" content=\"Interview, Code, Google, Facebook, Linkedin, Amazon, Microsoft, LintCode\" />\n",
      "  <title>九章算法 - 帮助更多中国人找到好工作，硅谷顶尖IT企业工程师实时在线授课为你传授面试技巧</title>\n",
      "  <link rel=\"icon shortcut\" type=\"image/x-icon\" href=\"/static/favicon.ico?v=2\" />\n",
      "  <link rel=\"preload\" as=\"style\" onload=\"this.rel='stylesheet'\" href=\"/static/plugins/pace/pace-theme-flash.css\"\n",
      "    type=\"text/css\" />\n",
      "  <link href=\"/static/plugins/bootstrap/css/bootstrap.min.css\" rel=\"stylesheet\" type=\"text/css\" />\n",
      "  <link rel=\"preload\" as=\"style\" onload=\"this.rel='stylesheet'\" href=\"/static/plugins/font-awesome/css/font-awesome.css\"\n",
      "    type=\"text/css\" />\n",
      "  <link href=\"/static/pages3/css/pages.css\" rel=\"stylesheet\" type=\"text/css\" />\n",
      "  <link rel=\"preload\" as=\"style\" onload=\"this.rel='stylesheet'\" href=\"/static/js/skins/skin.css\">\n",
      "  <link rel=\"preload\" as=\"style\" onload=\"this.rel='stylesheet'\" href=\"/static/plugins/simplemde/simplemde.min.css\"\n",
      "    type=\"text/css\" />\n",
      "  <link rel=\"stylesheet\" type=\"text/css\"\n",
      "    href=\"//imgcache.qq.com/open/qcloud/video/tcplayer/tcplayer.css\">\n",
      "  <link rel=\"stylesheet\" type=\"text/css\"\n",
      "    href=\"//g.alicdn.com/de/prismplayer/2.8.8/skins/default/aliplayer-min.css\" />\n",
      "  <script>\n",
      "    try {\n",
      "      window.__INITIAL_AUTH_STORE__ = JSON.parse('{\\u0022gk\\u0022: {\\u0022paypal\\u0022: true, \\u0022seminar_replay\\u0022: true, \\u0022zoom\\u002Dv2\\u0022: true, \\u0022react\\u002Dpayment\\u0022: true, \\u0022ticket\\u0022: true, \\u0022use\\u002Dnew\\u002Dcheckout\\u002Dlayout\\u0022: true, \\u0022im\\u0022: true, \\u0022questionnaire\\u002Demail\\u0022: true, \\u0022newTutorialNavigator\\u0022: true, \\u0022force\\u002Dwechat\\u0022: true, \\u0022showCourseOldVersion\\u0022: true, \\u0022wechat_template\\u0022: true, \\u0022lintcode\\u002Dvip\\u002Dfrom\\u002Dsubscriptions\\u0022: true, \\u0022jiumei\\u0022: true, \\u0022quest\\u002Drelease\\u0022: true, \\u0022showCourseNewVersion\\u0022: true, \\u0022use\\u002Dlc\\u002Deditor\\u002Din\\u002Ddialog\\u0022: true, \\u0022show\\u002Dnew\\u002Dversion\\u0022: true, \\u0022offer\\u002Drelease\\u0022: true, \\u0022invitation\\u0022: true, \\u0022show\\u002Dnew\\u002Dbanner\\u0022: true, \\u0022bill\\u002Dpage\\u002Dv2\\u0022: true, \\u0022payment\\u002Dstripe\\u0022: true, \\u0022payment\\u002Dantpay\\u0022: true, \\u0022v2\\u002Dbuy\\u002Dcourse\\u0022: true, \\u0022vip\\u002Dv2\\u0022: true, \\u0022index\\u002Dnav\\u002Dv2\\u0022: true}, \\u0022detail\\u0022: {\\u0022is_admin\\u0022: false, \\u0022is_staff\\u0022: false, \\u0022is_tutor\\u0022: false, \\u0022is_authenticated\\u0022: false, \\u0022loading\\u0022: false}}');\n",
      "    } catch {\n",
      "      window.__INITIAL_AUTH_STORE__ = {};\n",
      "    }\n",
      "  </script>\n",
      "<link href=\"https://static.jiuzhang.com/react/219.133b2ac48e31d3f012e8.css\" rel=\"stylesheet\"><link href=\"https://static.jiuzhang.com/react/217.1ffc9d27ddc8653c0340.css\" rel=\"stylesheet\"></head>\n",
      "\n",
      "<body class=\"pace-white\">\n",
      "  <div id=\"react-component\" style=\"height: 100%\">\n",
      "    <div class=\"text-center p-t-100\">\n",
      "      <i class=\"fa fa-spinner fa-3x fa-spin\"></i>\n",
      "    </div>\n",
      "  </div>\n",
      "  <div id=\"react-portal\"></div>\n",
      "  <div id=\"sentry-dsn\" style=\"display: none;\">https://38b14fc0f69e437b86a1419445e985d8@sentry-us.jiuzhang.com/2</div>\n",
      "  <script>\n",
      "    function handleSentryLoad() {\n",
      "      Sentry.init({\n",
      "        dsn: document.getElementById('sentry-dsn').innerText,\n",
      "        sampleRate: 0.5,\n",
      "      });\n",
      "    }\n",
      "  </script>\n",
      "  <script defer crossorigin=\"anonymous\" onload=\"handleSentryLoad()\"\n",
      "    src=\"https://static.jiuzhang.com/third-party/sentry/bundle.min.js\"></script>\n",
      "  <script defer src=\"/static/plugins/jquery/jquery-1.11.1.min.js\"></script>\n",
      "  <script defer src=\"/static/pages-compile/js/modernizr.min.js\"></script>\n",
      "  <script defer src=\"/static/pages-frontend/js/pages.frontend.min.js\"></script>\n",
      "  <script defer src=\"/static/plugins/bootstrap/js/bootstrap.min.js\"></script>\n",
      "  <script defer src=\"/static/plugins/simplemde/simplemde.min.js\"></script>\n",
      "  <script defer src=\"/static/plugins/videojs/video.js\"></script>\n",
      "  <script defer src=\"//imgcache.qq.com/open/qcloud/video/tcplayer/lib/hls.min.0.8.8.js\"></script>\n",
      "  <script defer src=\"//imgcache.qq.com/open/qcloud/video/tcplayer/tcplayer.min.js\"></script>\n",
      "  <script defer charset=\"utf-8\" type=\"text/javascript\"\n",
      "    src=\"//g.alicdn.com/de/prismplayer/2.8.8/aliplayer-min.js\"></script>\n",
      "  <!-- Wechat js-sdk -->\n",
      "  <script defer src=\"https://res2.wx.qq.com/open/js/jweixin-1.4.0.js\"></script>\n",
      "  <!-- Google Analytics -->\n",
      "  <script>\n",
      "    window.ga = window.ga || function () { (ga.q = ga.q || []).push(arguments) }; ga.l = +new Date;\n",
      "    ga('create', 'UA-126366399-1', 'auto');\n",
      "    ga('send', 'pageview', location.pathname + location.hash);\n",
      "    ga('require', 'ec');\n",
      "  </script>\n",
      "  <script defer src='/static/js/analytics.js'></script>\n",
      "  <!-- End Google Analytics -->\n",
      "  <!-- Global site tag (gtag.js) - Google AdWords: 936318332 -->\n",
      "  <script defer src=\"/static/js/gtag.AW-936318332.js\"></script>\n",
      "  <script>\n",
      "    window.dataLayer = window.dataLayer || [];\n",
      "    function gtag() { dataLayer.push(arguments); }\n",
      "    gtag('js', new Date());\n",
      "\n",
      "    gtag('config', 'AW-936318332');\n",
      "  </script>\n",
      "<script type=\"text/javascript\" src=\"https://static.jiuzhang.com/react/runtime-3ebc3d463edd974fd71e.js\" defer></script><script type=\"text/javascript\" src=\"https://static.jiuzhang.com/react/vendors-168c6892f498ab00cacf.chunk.js\" defer></script><script type=\"text/javascript\" src=\"https://static.jiuzhang.com/react/ninechapter-b0bd2485607bd69ef9ed.chunk.js\" defer></script></body>\n",
      "\n",
      "</html>\n",
      "\n"
     ]
    }
   ],
   "source": [
    "response = requests.get(\"https://www.jiuzhang.com\")\n",
    "print(type(response))\n",
    "print(response.url)\n",
    "print(response.status_code)\n",
    "print(response.text)"
   ]
  },
  {
   "cell_type": "markdown",
   "metadata": {},
   "source": [
    "# Request `post`"
   ]
  },
  {
   "cell_type": "code",
   "execution_count": 9,
   "metadata": {},
   "outputs": [
    {
     "name": "stdout",
     "output_type": "stream",
     "text": [
      "https://reqbin.com/echo/post/json\n",
      "200\n",
      "{\"success\":\"true\"}\n",
      "\n"
     ]
    }
   ],
   "source": [
    "import json\n",
    "\n",
    "url = \"https://reqbin.com/echo/post/json\"\n",
    "data = {\n",
    "  \"Id\": 78912,\n",
    "  \"Customer\": \"Jason Sweet\",\n",
    "  \"Quantity\": 1,\n",
    "  \"Price\": 18.00\n",
    "}\n",
    "\n",
    "data = json.dumps(data)\n",
    "response = requests.post(url, data=data)\n",
    "print(response.url)\n",
    "print(response.status_code)\n",
    "print(response.text)"
   ]
  },
  {
   "cell_type": "markdown",
   "metadata": {},
   "source": [
    "# Test `get` url length limitation"
   ]
  },
  {
   "cell_type": "code",
   "execution_count": 4,
   "metadata": {},
   "outputs": [
    {
     "name": "stdout",
     "output_type": "stream",
     "text": [
      "<class 'requests.models.Response'>\n",
      "200\n",
      "<!DOCTYPE html>\n",
      "<html>\n",
      "<head>\n",
      "    <title>lxml demo!</title>\n",
      "</head>\n",
      "<body>\n",
      "<div>\n",
      "    <a href=\"link.html\">Item List</a>\n",
      "    <ul>\n",
      "        <li class=\"item-0\"><a href=\"link1.html\">item 0</a></li>\n",
      "        <li class=\"item-1\"><a href=\"link2.html\", id='limited'>item 1</a></li>\n",
      "        <li class=\"item-2\"><a href=\"link2.html\">item 2</a></li>\n",
      "        <li class=\"item-3\"><a href=\"link2.html\">item 3</a></li>\n",
      "        <li class=\"item-4\"><a href=\"link2.html\", id='limited'>item 4</a></li>\n",
      "        <a class=\"next\" href=\"/zufang/pg2/#contentList\" data-page=\"2\">next page</a>\n",
      "    </ul>\n",
      "</div>\n",
      "</body>\n",
      "</html>\n",
      "\n"
     ]
    }
   ],
   "source": [
    "# Start httpservier in terminal: python httpserver.py\n",
    "url = \"http://localhost:23333?query=\" + ''.join(['c' for i in range(3000)])\n",
    "response = requests.get(url)\n",
    "print(type(response))\n",
    "print(response.status_code)\n",
    "print(response.text)"
   ]
  },
  {
   "cell_type": "markdown",
   "metadata": {},
   "source": [
    "# lxml prototype"
   ]
  },
  {
   "cell_type": "code",
   "execution_count": 5,
   "metadata": {},
   "outputs": [
    {
     "name": "stdout",
     "output_type": "stream",
     "text": [
      "<!DOCTYPE html>\n",
      "<html>\n",
      "<head>\n",
      "    <title>lxml demo!</title>\n",
      "</head>\n",
      "<body>\n",
      "<div>\n",
      "    <a href=\"link.html\">Item List</a>\n",
      "    <ul>\n",
      "        <li class=\"item-0\"><a href=\"link1.html\">item 0</a></li>\n",
      "        <li class=\"item-1\"><a href=\"link2.html\", id='limited'>item 1</a></li>\n",
      "        <li class=\"item-2\"><a href=\"link2.html\">item 2</a></li>\n",
      "        <li class=\"item-3\"><a href=\"link2.html\">item 3</a></li>\n",
      "        <li class=\"item-4\"><a href=\"link2.html\", id='limited'>item 4</a></li>\n",
      "        <a class=\"next\" href=\"/zufang/pg2/#contentList\" data-page=\"2\">next page</a>\n",
      "    </ul>\n",
      "</div>\n",
      "</body>\n",
      "</html>\n",
      "\n",
      "['item 0', 'item 1', 'item 2', 'item 3', 'item 4']\n",
      "['link1.html', 'link2.html', 'link2.html', 'link2.html', 'link2.html']\n",
      "['Item List', 'item 0', 'item 1', 'item 2', 'item 3', 'item 4', 'next page']\n",
      "['item 1', 'item 4']\n",
      "['next page']\n"
     ]
    }
   ],
   "source": [
    "from lxml import etree\n",
    "# Start httpservier in terminal: python httpserver.py --demo=lxml\n",
    "response = requests.get(\"http://localhost:23333\")\n",
    "\n",
    "print(response.text)\n",
    "\n",
    "html = etree.HTML(response.text)\n",
    "\n",
    "# 按路径求标签内的文本\n",
    "print(html.xpath(\"/html/body/div/ul/li/a/text()\"))\n",
    "\n",
    "# 按路径求标签内的属性\n",
    "print(html.xpath(\"/html/body/div/ul/li/a/@href\"))\n",
    "\n",
    "# 全局查找某个标签内的文本: //\n",
    "print(html.xpath(\"//a/text()\"))\n",
    "\n",
    "# 条件筛选: @[key=value]\n",
    "print(html.xpath(\"//a[@id='limited']/text()\"))\n",
    "\n",
    "print(html.xpath(\"//a[@class='next']/text()\"))"
   ]
  },
  {
   "cell_type": "markdown",
   "metadata": {},
   "source": [
    "# Parse Detail Page"
   ]
  },
  {
   "cell_type": "code",
   "execution_count": 10,
   "metadata": {},
   "outputs": [
    {
     "name": "stdout",
     "output_type": "stream",
     "text": [
      "[]\n"
     ]
    }
   ],
   "source": [
    "import json\n",
    "response = requests.get(\"https://hz.lianjia.com/zufang/HZ2558750257605787648.html\")\n",
    "html = etree.HTML(response.text)\n",
    "descriptions = html.xpath(\"//div[@class='content__article__info']/ul/li/text()\")\n",
    "detail = []\n",
    "\n",
    "for desc in descriptions:\n",
    "    desc = desc.strip()\n",
    "    if len(desc):\n",
    "        print(desc)\n",
    "        detail.append(desc)\n",
    "detail_json = json.dumps(detail)\n",
    "print(detail_json)"
   ]
  },
  {
   "cell_type": "code",
   "execution_count": null,
   "metadata": {},
   "outputs": [],
   "source": []
  }
 ],
 "metadata": {
  "kernelspec": {
   "display_name": "Python 3",
   "language": "python",
   "name": "python3"
  },
  "language_info": {
   "codemirror_mode": {
    "name": "ipython",
    "version": 3
   },
   "file_extension": ".py",
   "mimetype": "text/x-python",
   "name": "python",
   "nbconvert_exporter": "python",
   "pygments_lexer": "ipython3",
   "version": "3.5.6"
  }
 },
 "nbformat": 4,
 "nbformat_minor": 4
}
